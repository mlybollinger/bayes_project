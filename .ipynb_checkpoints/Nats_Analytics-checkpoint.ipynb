{
 "cells": [
  {
   "cell_type": "code",
   "execution_count": 109,
   "id": "af01f210",
   "metadata": {},
   "outputs": [],
   "source": [
    "import pandas as pd\n",
    "import arviz as az\n",
    "import numpy as np\n",
    "import pymc as pm\n",
    "from pymc.math import exp\n",
    "import math\n"
   ]
  },
  {
   "cell_type": "code",
   "execution_count": 2,
   "id": "437ec7e1",
   "metadata": {},
   "outputs": [],
   "source": [
    "bonuses_df = pd.read_csv(\"2023-acf-nationals-all-bonuses.csv\")\n",
    "buzzes_df = pd.read_csv(\"2023-acf-nationals-all-buzzes.csv\")\n",
    "lengths_df = pd.read_csv(\"tossup-meta.csv\")"
   ]
  },
  {
   "cell_type": "code",
   "execution_count": 3,
   "id": "833aab16",
   "metadata": {},
   "outputs": [
    {
     "data": {
      "text/html": [
       "<div>\n",
       "<style scoped>\n",
       "    .dataframe tbody tr th:only-of-type {\n",
       "        vertical-align: middle;\n",
       "    }\n",
       "\n",
       "    .dataframe tbody tr th {\n",
       "        vertical-align: top;\n",
       "    }\n",
       "\n",
       "    .dataframe thead th {\n",
       "        text-align: right;\n",
       "    }\n",
       "</style>\n",
       "<table border=\"1\" class=\"dataframe\">\n",
       "  <thead>\n",
       "    <tr style=\"text-align: right;\">\n",
       "      <th></th>\n",
       "      <th>game_id</th>\n",
       "      <th>round</th>\n",
       "      <th>tossup</th>\n",
       "      <th>team</th>\n",
       "      <th>player</th>\n",
       "      <th>opponent</th>\n",
       "      <th>category</th>\n",
       "      <th>subcategory</th>\n",
       "      <th>answer</th>\n",
       "      <th>buzz_position</th>\n",
       "      <th>value</th>\n",
       "      <th>words</th>\n",
       "      <th>pct_read</th>\n",
       "    </tr>\n",
       "  </thead>\n",
       "  <tbody>\n",
       "    <tr>\n",
       "      <th>0</th>\n",
       "      <td>232</td>\n",
       "      <td>1</td>\n",
       "      <td>1</td>\n",
       "      <td>Chicago A</td>\n",
       "      <td>Matt Jackson</td>\n",
       "      <td>Houston A</td>\n",
       "      <td>History</td>\n",
       "      <td>European History</td>\n",
       "      <td>German university students</td>\n",
       "      <td>91</td>\n",
       "      <td>10</td>\n",
       "      <td>149.0</td>\n",
       "      <td>61.073826</td>\n",
       "    </tr>\n",
       "    <tr>\n",
       "      <th>1</th>\n",
       "      <td>232</td>\n",
       "      <td>1</td>\n",
       "      <td>2</td>\n",
       "      <td>Chicago A</td>\n",
       "      <td>Adam Fine</td>\n",
       "      <td>Houston A</td>\n",
       "      <td>Science</td>\n",
       "      <td>Physics</td>\n",
       "      <td>gravitational lensing</td>\n",
       "      <td>64</td>\n",
       "      <td>10</td>\n",
       "      <td>138.0</td>\n",
       "      <td>46.376812</td>\n",
       "    </tr>\n",
       "    <tr>\n",
       "      <th>2</th>\n",
       "      <td>232</td>\n",
       "      <td>1</td>\n",
       "      <td>3</td>\n",
       "      <td>Houston A</td>\n",
       "      <td>John Broussard</td>\n",
       "      <td>Chicago A</td>\n",
       "      <td>Arts</td>\n",
       "      <td>Painting/Sculpture</td>\n",
       "      <td>Kara Walker</td>\n",
       "      <td>111</td>\n",
       "      <td>10</td>\n",
       "      <td>148.0</td>\n",
       "      <td>75.000000</td>\n",
       "    </tr>\n",
       "    <tr>\n",
       "      <th>3</th>\n",
       "      <td>232</td>\n",
       "      <td>1</td>\n",
       "      <td>4</td>\n",
       "      <td>Chicago A</td>\n",
       "      <td>Matt Jackson</td>\n",
       "      <td>Houston A</td>\n",
       "      <td>History</td>\n",
       "      <td>American History</td>\n",
       "      <td>George Crook</td>\n",
       "      <td>147</td>\n",
       "      <td>10</td>\n",
       "      <td>144.0</td>\n",
       "      <td>100.000000</td>\n",
       "    </tr>\n",
       "    <tr>\n",
       "      <th>4</th>\n",
       "      <td>232</td>\n",
       "      <td>1</td>\n",
       "      <td>5</td>\n",
       "      <td>Chicago A</td>\n",
       "      <td>Matt Jackson</td>\n",
       "      <td>Houston A</td>\n",
       "      <td>Thought</td>\n",
       "      <td>Social Science</td>\n",
       "      <td>communication</td>\n",
       "      <td>110</td>\n",
       "      <td>10</td>\n",
       "      <td>133.0</td>\n",
       "      <td>82.706767</td>\n",
       "    </tr>\n",
       "  </tbody>\n",
       "</table>\n",
       "</div>"
      ],
      "text/plain": [
       "   game_id  round  tossup       team          player   opponent category  \\\n",
       "0      232      1       1  Chicago A    Matt Jackson  Houston A  History   \n",
       "1      232      1       2  Chicago A       Adam Fine  Houston A  Science   \n",
       "2      232      1       3  Houston A  John Broussard  Chicago A     Arts   \n",
       "3      232      1       4  Chicago A    Matt Jackson  Houston A  History   \n",
       "4      232      1       5  Chicago A    Matt Jackson  Houston A  Thought   \n",
       "\n",
       "          subcategory                      answer  buzz_position  value  \\\n",
       "0    European History  German university students             91     10   \n",
       "1             Physics       gravitational lensing             64     10   \n",
       "2  Painting/Sculpture                 Kara Walker            111     10   \n",
       "3    American History                George Crook            147     10   \n",
       "4      Social Science               communication            110     10   \n",
       "\n",
       "   words    pct_read  \n",
       "0  149.0   61.073826  \n",
       "1  138.0   46.376812  \n",
       "2  148.0   75.000000  \n",
       "3  144.0  100.000000  \n",
       "4  133.0   82.706767  "
      ]
     },
     "execution_count": 3,
     "metadata": {},
     "output_type": "execute_result"
    }
   ],
   "source": [
    "buzzes_df = pd.merge(buzzes_df, lengths_df[['round', 'tossup', 'words']], how='left', left_on=['round', 'tossup'], right_on=['round', 'tossup'])\n",
    "buzzes_df['pct_read'] = buzzes_df['buzz_position'] / buzzes_df['words'] * 100\n",
    "\n",
    "buzzes_df['pct_read'] = buzzes_df['pct_read'].apply(lambda x: min(x, 100))\n",
    "\n",
    "buzzes_df.head()"
   ]
  },
  {
   "cell_type": "code",
   "execution_count": null,
   "id": "570e9b34",
   "metadata": {},
   "outputs": [],
   "source": [
    "def get_player_survival_data(df, player_name, category):\n",
    "    team_name = df[df['player'] == player_name]['team'].iloc[0]\n",
    "    \n",
    "    game_ids = df.loc[(df['team'] == team_name) | (df['opponent'] == team_name), \"game_id\"].unique()\n",
    "    \n",
    "    buzzes_list = []\n",
    "    \n",
    "    player_df = df[df['game_id'].isin(game_ids)]\n",
    "    \n",
    "    player_df['player_buzz'] = [1 if player == player_name else 0 for player in player_df['player']]\n",
    "    \n",
    "    #remove buzzes after negs\n",
    "    \n",
    "    player_df = player_df.drop_duplicates(subset=['round', 'tossup'], keep='first').reset_index(drop=True)\n",
    "    \n",
    "    player_df = player_df[player_df['category'] == category]\n",
    "\n",
    "    \n",
    "    return player_df\n",
    "\n",
    "player_df = get_player_survival_data(buzzes_df, 'Geoffrey Chen', 'Science')\n",
    "\n",
    "player_df.head()"
   ]
  },
  {
   "cell_type": "code",
   "execution_count": null,
   "id": "fc765f2a",
   "metadata": {},
   "outputs": [],
   "source": [
    "get_player_survival_data(buzzes_df, \"Hari Parameswaran\", \"History\")"
   ]
  },
  {
   "cell_type": "code",
   "execution_count": null,
   "id": "756b42b7",
   "metadata": {},
   "outputs": [],
   "source": [
    "player_buzzes = buzzes_df.groupby(['player', 'category']).value.sum()"
   ]
  },
  {
   "cell_type": "code",
   "execution_count": null,
   "id": "b3e6d737",
   "metadata": {},
   "outputs": [],
   "source": [
    "players = [key[0] for key in player_buzzes.keys()]\n",
    "\n",
    "players = list(set(players))\n",
    "\n",
    "science_points = []\n",
    "\n",
    "for player in players:\n",
    "    if \"Science\" in player_buzzes[player]:\n",
    "        science_points.append({'Player': player, \"Points\": player_buzzes[player]['Science']})"
   ]
  },
  {
   "cell_type": "code",
   "execution_count": null,
   "id": "ed5776e7",
   "metadata": {},
   "outputs": [],
   "source": [
    "log2 = np.log(2)\n",
    "\n",
    "player_list = ['Hari Parameswaran']\n",
    "\n",
    "for player in player_list:\n",
    "    \n",
    "    player_df = get_player_survival_data(buzzes_df, player, 'History')\n",
    "    \n",
    "    observed_mask = player_df['player_buzz'] == 1\n",
    "    \n",
    "    censored_vals = player_df['pct_read'].copy()\n",
    "    censored = censored_vals[~observed_mask]\n",
    "    \n",
    "        \n",
    "    y_uncensored = player_df['pct_read'].copy()\n",
    "    \n",
    "    y_uncensored = y_uncensored[observed_mask]\n",
    "    \n",
    "    upper = np.full(np.shape(censored), 110)\n",
    "    \n",
    "    with pm.Model() as m:\n",
    "        beta0 = pm.Normal(\"beta0\", 0, tau=0.01)\n",
    "        α = pm.Exponential(\"α\", 1/2)\n",
    "\n",
    "        λ = exp(beta0)\n",
    "        β = λ ** (-1 / α)\n",
    "\n",
    "        impute_censored = pm.Bound(\"impute_censored\", pm.Weibull.dist(alpha=α, beta=β), lower=censored, upper=upper, shape=censored.shape[0])\n",
    "        \n",
    "        likelihood = pm.Truncated(\"likelihood\", pm.Weibull.dist(\n",
    "        alpha=α,\n",
    "        beta=β), \n",
    "        observed=y_uncensored,\n",
    "        shape=y_uncensored.shape[0],\n",
    "        upper=105\n",
    "    )\n",
    "        \n",
    "\n",
    "        median0 = pm.Deterministic(\"median0\", (log2 * exp(-beta0)) ** (1 / α))\n",
    "\n",
    "        trace = pm.sample(\n",
    "            3000,\n",
    "            tune=500,\n",
    "            init=\"jitter+adapt_diag_grad\",\n",
    "            target_accept=0.9,\n",
    "        )\n",
    "        \n",
    "        print(\"Player: \" + player)\n",
    "        \n",
    "        print(az.summary(trace))"
   ]
  },
  {
   "cell_type": "code",
   "execution_count": null,
   "id": "d1108fd5",
   "metadata": {},
   "outputs": [],
   "source": [
    "az.plot_trace(trace)"
   ]
  },
  {
   "cell_type": "code",
   "execution_count": 4,
   "id": "957ede1b",
   "metadata": {},
   "outputs": [],
   "source": [
    "#define get_team_survival_data to create graphs of temas\n",
    "def get_team_survival_data(df, team_name):\n",
    "    \n",
    "    buzzes_list = []\n",
    "    \n",
    "    team_df = df[(df['team'] == team_name) | (df['opponent'] == team_name)]\n",
    "    \n",
    "    team_df['team_buzz'] = [1 if team == team_name else 0 for team in team_df['team']]\n",
    "    \n",
    "    #remove buzzes after negs\n",
    "    \n",
    "    team_df = team_df.drop_duplicates(subset=['round', 'tossup'], keep='first').reset_index(drop=True)\n",
    "    \n",
    "    cat_df = pd.get_dummies(team_df['category'])\n",
    "    \n",
    "    team_df = pd.concat([team_df, cat_df], axis=1)\n",
    "\n",
    "    \n",
    "    return team_df"
   ]
  },
  {
   "cell_type": "code",
   "execution_count": null,
   "id": "b20106d6",
   "metadata": {},
   "outputs": [],
   "source": [
    "team_df = get_team_survival_data(buzzes_df, 'Cornell A')\n",
    "\n",
    "team_df.head()"
   ]
  },
  {
   "cell_type": "code",
   "execution_count": 5,
   "id": "f31a44d7",
   "metadata": {},
   "outputs": [
    {
     "name": "stderr",
     "output_type": "stream",
     "text": [
      "C:\\Users\\mlybo\\AppData\\Local\\Temp\\ipykernel_22668\\2612843235.py:8: SettingWithCopyWarning: \n",
      "A value is trying to be set on a copy of a slice from a DataFrame.\n",
      "Try using .loc[row_indexer,col_indexer] = value instead\n",
      "\n",
      "See the caveats in the documentation: https://pandas.pydata.org/pandas-docs/stable/user_guide/indexing.html#returning-a-view-versus-a-copy\n",
      "  team_df['team_buzz'] = [1 if team == team_name else 0 for team in team_df['team']]\n",
      "C:\\Users\\mlybo\\miniconda3\\envs\\pymc\\Lib\\site-packages\\pymc\\distributions\\bound.py:186: FutureWarning: Bound has been deprecated in favor of Truncated, and will be removed in a future release. If Truncated is not an option, Bound can be implemented byadding an IntervalTransform between lower and upper to a continuous variable. A Potential that returns negative infinity for values outside of the bounds can be used for discrete variables.\n",
      "  warnings.warn(\n",
      "Auto-assigning NUTS sampler...\n",
      "Initializing NUTS using jitter+adapt_diag_grad...\n",
      "Multiprocess sampling (4 chains in 4 jobs)\n",
      "NUTS: [beta_0, beta, α, impute_censored]\n"
     ]
    },
    {
     "data": {
      "text/html": [
       "\n",
       "<style>\n",
       "    /* Turns off some styling */\n",
       "    progress {\n",
       "        /* gets rid of default border in Firefox and Opera. */\n",
       "        border: none;\n",
       "        /* Needs to be in here for Safari polyfill so background images work as expected. */\n",
       "        background-size: auto;\n",
       "    }\n",
       "    progress:not([value]), progress:not([value])::-webkit-progress-bar {\n",
       "        background: repeating-linear-gradient(45deg, #7e7e7e, #7e7e7e 10px, #5c5c5c 10px, #5c5c5c 20px);\n",
       "    }\n",
       "    .progress-bar-interrupted, .progress-bar-interrupted::-webkit-progress-bar {\n",
       "        background: #F44336;\n",
       "    }\n",
       "</style>\n"
      ],
      "text/plain": [
       "<IPython.core.display.HTML object>"
      ]
     },
     "metadata": {},
     "output_type": "display_data"
    },
    {
     "data": {
      "text/html": [
       "\n",
       "    <div>\n",
       "      <progress value='14000' class='' max='14000' style='width:300px; height:20px; vertical-align: middle;'></progress>\n",
       "      100.00% [14000/14000 05:07&lt;00:00 Sampling 4 chains, 0 divergences]\n",
       "    </div>\n",
       "    "
      ],
      "text/plain": [
       "<IPython.core.display.HTML object>"
      ]
     },
     "metadata": {},
     "output_type": "display_data"
    },
    {
     "name": "stderr",
     "output_type": "stream",
     "text": [
      "Sampling 4 chains for 500 tune and 3_000 draw iterations (2_000 + 12_000 draws total) took 348 seconds.\n",
      "The effective sample size per chain is smaller than 100 for some parameters.  A higher number is needed for reliable rhat and ess computation. See https://arxiv.org/abs/1903.08008 for details\n"
     ]
    },
    {
     "name": "stdout",
     "output_type": "stream",
     "text": [
      "Team: Cornell A\n",
      "                      mean      sd  hdi_3%  hdi_97%  mcse_mean  mcse_sd  \\\n",
      "beta_0             -16.241   1.503 -18.996  -13.458      0.075    0.053   \n",
      "beta[0]             -0.017   1.285  -2.550    2.198      0.065    0.046   \n",
      "beta[1]             -0.558   1.278  -2.958    1.767      0.064    0.045   \n",
      "beta[2]              0.232   1.279  -2.109    2.588      0.065    0.046   \n",
      "beta[3]             -0.323   1.278  -2.668    2.036      0.064    0.046   \n",
      "...                    ...     ...     ...      ...        ...      ...   \n",
      "art_prediction      73.657  22.360  31.792  114.939      0.202    0.143   \n",
      "belief_prediction   84.520  25.896  37.661  133.842      0.237    0.167   \n",
      "hist_prediction     68.556  21.061  29.125  107.234      0.195    0.138   \n",
      "sci_prediction      73.171  22.549  29.692  113.914      0.205    0.145   \n",
      "thought_prediction  84.637  26.022  37.250  134.024      0.235    0.166   \n",
      "\n",
      "                    ess_bulk  ess_tail  r_hat  \n",
      "beta_0                 404.0    1014.0   1.01  \n",
      "beta[0]                395.0     963.0   1.01  \n",
      "beta[1]                397.0     920.0   1.01  \n",
      "beta[2]                389.0     961.0   1.01  \n",
      "beta[3]                395.0     931.0   1.01  \n",
      "...                      ...       ...    ...  \n",
      "art_prediction       12253.0   11804.0   1.00  \n",
      "belief_prediction    11962.0   11203.0   1.00  \n",
      "hist_prediction      11652.0   11276.0   1.00  \n",
      "sci_prediction       12124.0   11831.0   1.00  \n",
      "thought_prediction   12246.0   11740.0   1.00  \n",
      "\n",
      "[156 rows x 9 columns]\n"
     ]
    },
    {
     "name": "stderr",
     "output_type": "stream",
     "text": [
      "C:\\Users\\mlybo\\AppData\\Local\\Temp\\ipykernel_22668\\2612843235.py:8: SettingWithCopyWarning: \n",
      "A value is trying to be set on a copy of a slice from a DataFrame.\n",
      "Try using .loc[row_indexer,col_indexer] = value instead\n",
      "\n",
      "See the caveats in the documentation: https://pandas.pydata.org/pandas-docs/stable/user_guide/indexing.html#returning-a-view-versus-a-copy\n",
      "  team_df['team_buzz'] = [1 if team == team_name else 0 for team in team_df['team']]\n",
      "C:\\Users\\mlybo\\miniconda3\\envs\\pymc\\Lib\\site-packages\\pymc\\distributions\\bound.py:186: FutureWarning: Bound has been deprecated in favor of Truncated, and will be removed in a future release. If Truncated is not an option, Bound can be implemented byadding an IntervalTransform between lower and upper to a continuous variable. A Potential that returns negative infinity for values outside of the bounds can be used for discrete variables.\n",
      "  warnings.warn(\n",
      "Auto-assigning NUTS sampler...\n",
      "Initializing NUTS using jitter+adapt_diag_grad...\n",
      "Multiprocess sampling (4 chains in 4 jobs)\n",
      "NUTS: [beta_0, beta, α, impute_censored]\n"
     ]
    },
    {
     "data": {
      "text/html": [
       "\n",
       "<style>\n",
       "    /* Turns off some styling */\n",
       "    progress {\n",
       "        /* gets rid of default border in Firefox and Opera. */\n",
       "        border: none;\n",
       "        /* Needs to be in here for Safari polyfill so background images work as expected. */\n",
       "        background-size: auto;\n",
       "    }\n",
       "    progress:not([value]), progress:not([value])::-webkit-progress-bar {\n",
       "        background: repeating-linear-gradient(45deg, #7e7e7e, #7e7e7e 10px, #5c5c5c 10px, #5c5c5c 20px);\n",
       "    }\n",
       "    .progress-bar-interrupted, .progress-bar-interrupted::-webkit-progress-bar {\n",
       "        background: #F44336;\n",
       "    }\n",
       "</style>\n"
      ],
      "text/plain": [
       "<IPython.core.display.HTML object>"
      ]
     },
     "metadata": {},
     "output_type": "display_data"
    },
    {
     "data": {
      "text/html": [
       "\n",
       "    <div>\n",
       "      <progress value='14000' class='' max='14000' style='width:300px; height:20px; vertical-align: middle;'></progress>\n",
       "      100.00% [14000/14000 04:32&lt;00:00 Sampling 4 chains, 0 divergences]\n",
       "    </div>\n",
       "    "
      ],
      "text/plain": [
       "<IPython.core.display.HTML object>"
      ]
     },
     "metadata": {},
     "output_type": "display_data"
    },
    {
     "name": "stderr",
     "output_type": "stream",
     "text": [
      "Sampling 4 chains for 500 tune and 3_000 draw iterations (2_000 + 12_000 draws total) took 303 seconds.\n",
      "The effective sample size per chain is smaller than 100 for some parameters.  A higher number is needed for reliable rhat and ess computation. See https://arxiv.org/abs/1903.08008 for details\n"
     ]
    },
    {
     "name": "stdout",
     "output_type": "stream",
     "text": [
      "Team: Chicago A\n",
      "                      mean      sd  hdi_3%  hdi_97%  mcse_mean  mcse_sd  \\\n",
      "beta_0             -18.206   1.538 -21.111  -15.363      0.078    0.055   \n",
      "beta[0]             -0.680   1.275  -3.051    1.704      0.066    0.047   \n",
      "beta[1]             -0.032   1.274  -2.341    2.375      0.066    0.047   \n",
      "beta[2]             -0.136   1.272  -2.475    2.261      0.066    0.047   \n",
      "beta[3]             -0.269   1.273  -2.528    2.207      0.066    0.047   \n",
      "...                    ...     ...     ...      ...        ...      ...   \n",
      "art_prediction      81.690  22.189  39.785  122.741      0.203    0.144   \n",
      "belief_prediction   69.862  19.324  32.530  104.638      0.177    0.125   \n",
      "hist_prediction     71.448  19.746  33.291  106.635      0.179    0.127   \n",
      "sci_prediction      77.287  21.082  37.972  116.261      0.194    0.137   \n",
      "thought_prediction  71.145  19.380  33.385  106.275      0.180    0.129   \n",
      "\n",
      "                    ess_bulk  ess_tail  r_hat  \n",
      "beta_0                 388.0     998.0   1.01  \n",
      "beta[0]                374.0    1048.0   1.01  \n",
      "beta[1]                373.0     999.0   1.00  \n",
      "beta[2]                372.0     927.0   1.01  \n",
      "beta[3]                371.0     964.0   1.00  \n",
      "...                      ...       ...    ...  \n",
      "art_prediction       11895.0   11841.0   1.00  \n",
      "belief_prediction    11932.0   11110.0   1.00  \n",
      "hist_prediction      12165.0   11187.0   1.00  \n",
      "sci_prediction       11793.0   11972.0   1.00  \n",
      "thought_prediction   11536.0   11779.0   1.00  \n",
      "\n",
      "[151 rows x 9 columns]\n"
     ]
    }
   ],
   "source": [
    "log2 = np.log(2)\n",
    "\n",
    "team_list = ['Cornell A', 'Chicago A']\n",
    "\n",
    "trace_data = {}\n",
    "\n",
    "for team in team_list:\n",
    "    \n",
    "    \n",
    "    team_df = get_team_survival_data(buzzes_df, team)\n",
    "    \n",
    "    X = np.array(team_df[['Arts', 'Beliefs and Other', 'History', 'Literature', 'Science', 'Thought']]).T    \n",
    "    \n",
    "    observed_mask = team_df['team_buzz'] == 1\n",
    "    \n",
    "    censored_vals = team_df['pct_read'].copy()\n",
    "    \n",
    "    \n",
    "    censored = censored_vals[~observed_mask]\n",
    "    \n",
    "    with pm.Model() as m:\n",
    "    \n",
    "        \n",
    "    \n",
    "        x_censored = X[:, ~observed_mask]\n",
    "        x_uncensored = X[:, observed_mask]\n",
    "\n",
    "\n",
    "        y_uncensored = team_df['pct_read'].copy()\n",
    "    \n",
    "        y_uncensored = y_uncensored[observed_mask]\n",
    "    \n",
    "    \n",
    "    \n",
    "        upper = np.full(np.shape(censored), 110)\n",
    "        \n",
    "        beta_0 = pm.Normal(\"beta_0\", 0, tau=.01)\n",
    "    \n",
    "        \n",
    "        \n",
    "        \n",
    "        betas = pm.Normal(\"beta\", 0, tau=0.1, shape=X.shape[0])\n",
    "        \n",
    "        α = pm.Exponential(\"α\", 1/2)\n",
    "\n",
    "        λ_censored = exp(beta_0 + pm.math.dot(betas, x_censored))\n",
    "        \n",
    "        λ_uncensored = exp(beta_0 + pm.math.dot(betas, x_uncensored))\n",
    "        \n",
    "        β_censored = λ_censored ** (-1 / α)\n",
    "\n",
    "        β_uncensored = λ_uncensored ** (-1 / α)\n",
    "         \n",
    "\n",
    "        impute_censored = pm.Bound(\"impute_censored\", pm.Weibull.dist(alpha=α, beta=β_censored), lower=censored, upper=upper, shape=censored.shape[0])\n",
    "        \n",
    "        likelihood = pm.Truncated(\"likelihood\", pm.Weibull.dist(\n",
    "        alpha=α,\n",
    "        beta=β_uncensored), \n",
    "        observed=y_uncensored,\n",
    "        shape=1,  \n",
    "        upper=100                   \n",
    "    )\n",
    "        \n",
    "\n",
    "        #median0 = pm.Deterministic(\"median0\", pm.math.exp((100 / σ) ** α - ((100 + p) / σ) ** α))\n",
    "        \n",
    "        lit_pred = pm.Deterministic('lit_prediction', pm.Weibull.dist(alpha=α, beta=pm.math.exp(beta_0 + betas[3]) ** (-1 / α)))\n",
    "        arts_pred = pm.Deterministic('art_prediction', pm.Weibull.dist(alpha=α, beta=pm.math.exp(beta_0 + betas[0]) ** (-1 / α)))\n",
    "        belief_pred = pm.Deterministic('belief_prediction', pm.Weibull.dist(alpha=α, beta=pm.math.exp(beta_0 + betas[1]) ** (-1 / α)))\n",
    "        hist_pred = pm.Deterministic('hist_prediction', pm.Weibull.dist(alpha=α, beta=pm.math.exp(beta_0 + betas[2]) ** (-1 / α)))\n",
    "        sci_pred = pm.Deterministic('sci_prediction', pm.Weibull.dist(alpha=α, beta=pm.math.exp(beta_0 + betas[4]) ** (-1 / α)))\n",
    "        thought_pred = pm.Deterministic('thought_prediction', pm.Weibull.dist(alpha=α, beta=pm.math.exp(beta_0 + betas[5]) ** (-1 / α)))\n",
    "\n",
    "        trace = pm.sample(\n",
    "            3000,\n",
    "            tune=500,\n",
    "            init=\"jitter+adapt_diag_grad\",\n",
    "            target_accept=0.9,\n",
    "        )\n",
    "        \n",
    "        team_data = {\"Lit\": np.array(trace.posterior['lit_prediction']), \"Arts\": np.array(trace.posterior['art_prediction']), \n",
    "                    \"Belief\": np.array(trace.posterior['belief_prediction']), \"History\": np.array(trace.posterior['hist_prediction']), \n",
    "                    \"Science\": np.array(trace.posterior['sci_prediction']), \"Thought\": np.array(trace.posterior['thought_prediction'])}\n",
    "        \n",
    "        trace_data[team] = team_data\n",
    "        \n",
    "        print(\"Team: \" + team)\n",
    "        \n",
    "        print(az.summary(trace))\n",
    "        "
   ]
  },
  {
   "cell_type": "code",
   "execution_count": 114,
   "id": "c8a5162f",
   "metadata": {},
   "outputs": [],
   "source": [
    "\n",
    "def sim_game(first_buzzes, second_buzzes, first_neg_rate, second_neg_rate, first_ppb, second_ppb):\n",
    "    tossups = [\"Lit\"] * 4 + [\"Arts\"] * 3 + ['Belief'] * 3 + [\"History\"] * 4 + [\"Science\"] * 4 + [\"Thought\"] * 2\n",
    "    first_score = 0\n",
    "    second_score = 0\n",
    "    \n",
    "    for tossup in tossups:\n",
    "        \n",
    "        buzz_one = np.random.choice(first_buzzes[tossup].flatten())\n",
    "        buzz_two = np.random.choice(second_buzzes[tossup].flatten())\n",
    "        \n",
    "        first_bonus_points = math.floor(first_ppb / 10 + np.random.random()) * 10\n",
    "        second_bonus_points = math.floor(second_ppb / 10 + np.random.random()) * 10\n",
    "        \n",
    "        if (buzz_one >= 110) & (buzz_two >= 110):\n",
    "            continue\n",
    "            \n",
    "        elif buzz_one < buzz_two:\n",
    "            \n",
    "            is_neg = np.random.choice([0, 1], p=[1 - first_neg_rate, first_neg_rate])\n",
    "            \n",
    "            if is_neg:\n",
    "                \n",
    "                first_score -= 5\n",
    "                \n",
    "                if buzz_two <= 110:\n",
    "                    \n",
    "                    second_score += 10\n",
    "                    second_score += second_bonus_points\n",
    "            else:\n",
    "                \n",
    "                first_score += 10\n",
    "                first_score += first_bonus_points\n",
    "                    \n",
    "        elif buzz_two <= buzz_one:\n",
    "            \n",
    "            is_neg = np.random.choice([0, 1], p=[1 - second_neg_rate, second_neg_rate])\n",
    "            \n",
    "            if is_neg:\n",
    "                \n",
    "                second_score -= 5\n",
    "                \n",
    "                if buzz_one <= 110:\n",
    "                    \n",
    "                    first_score += 10\n",
    "                    first_score += first_bonus_points\n",
    "            else:\n",
    "                \n",
    "                second_score += 10\n",
    "                second_score += second_bonus_points\n",
    "                \n",
    "    return (first_score, second_score)"
   ]
  },
  {
   "cell_type": "code",
   "execution_count": 106,
   "id": "451bb9d7",
   "metadata": {},
   "outputs": [
    {
     "data": {
      "text/plain": [
       "0"
      ]
     },
     "execution_count": 106,
     "metadata": {},
     "output_type": "execute_result"
    }
   ],
   "source": []
  },
  {
   "cell_type": "code",
   "execution_count": 120,
   "id": "5695230a",
   "metadata": {},
   "outputs": [
    {
     "name": "stdout",
     "output_type": "stream",
     "text": [
      "Chicago A: 626 Cornell A: 360\n"
     ]
    }
   ],
   "source": [
    "wins = {\"Chicago A\": 0, \"Cornell A\": 0}\n",
    "\n",
    "for i in range(1000):\n",
    "    \n",
    "    scores = sim_game(trace_data['Chicago A'], trace_data['Cornell A'], .13, .15, 19.5, 17.5)\n",
    "    \n",
    "    \n",
    "    if scores[1] > scores[0]:\n",
    "        wins['Cornell A'] += 1\n",
    "    elif scores[0] > scores[1]:\n",
    "        wins['Chicago A'] += 1\n",
    "\n",
    "print(\"Chicago A: \" + str(wins[\"Chicago A\"]), \"Cornell A: \" + str(wins['Cornell A']))"
   ]
  },
  {
   "cell_type": "code",
   "execution_count": null,
   "id": "e1821b3e",
   "metadata": {},
   "outputs": [],
   "source": [
    "import seaborn as sns\n",
    "pred_array = np.array(ppc.posterior_predictive.likelihood).flatten()\n",
    "np.quantile(pred_array, [.05, .94])"
   ]
  },
  {
   "cell_type": "code",
   "execution_count": null,
   "id": "f0247acc",
   "metadata": {},
   "outputs": [],
   "source": [
    "team_df = get_team_survival_data(buzzes_df, team, 'Science')\n",
    "print(list(team_df['value']))"
   ]
  },
  {
   "cell_type": "code",
   "execution_count": null,
   "id": "cbc851b3",
   "metadata": {},
   "outputs": [],
   "source": [
    "buzzes_df = buzzes_df[buzzes_df['round'] >= 8]\n",
    "buzzes_df = buzzes_df[buzzes_df['round'] < 20]"
   ]
  },
  {
   "cell_type": "code",
   "execution_count": null,
   "id": "2b62c8ed",
   "metadata": {},
   "outputs": [],
   "source": [
    "science_df = pd.DataFrame.from_dict(science_points)"
   ]
  },
  {
   "cell_type": "code",
   "execution_count": null,
   "id": "1edc3cb8",
   "metadata": {},
   "outputs": [],
   "source": [
    "science_df.sort_values(by='Points', ascending=False, inplace=True)\n",
    "\n",
    "list(science_df.head(10)['Player'])"
   ]
  },
  {
   "cell_type": "code",
   "execution_count": null,
   "id": "ab85db80",
   "metadata": {},
   "outputs": [],
   "source": [
    "len(x_censored)"
   ]
  },
  {
   "cell_type": "code",
   "execution_count": null,
   "id": "c66a39a8",
   "metadata": {},
   "outputs": [],
   "source": [
    "team_name = buzzes_df[buzzes_df['player'] == 'Matt Bollinger']['team'].iloc[0]\n",
    "game_ids = buzzes_df.loc[((buzzes_df.team == team_name) | (buzzes_df.opponent == team_name)), 'game_id'].unique()"
   ]
  },
  {
   "cell_type": "code",
   "execution_count": null,
   "id": "bcba5067",
   "metadata": {},
   "outputs": [],
   "source": [
    "buzzes_df[(buzzes_df['team'] == team_name) and (buzzes_df['opponent'] == team_name)]"
   ]
  },
  {
   "cell_type": "code",
   "execution_count": null,
   "id": "00a9884f",
   "metadata": {},
   "outputs": [],
   "source": [
    "buzzes_df.loc[lambda x: x['game_id'] in game_ids]"
   ]
  },
  {
   "cell_type": "code",
   "execution_count": null,
   "id": "bb54b1d4",
   "metadata": {},
   "outputs": [],
   "source": [
    "team_df = get_team_survival_data(buzzes_df, 'Cornell A')\n",
    "    \n",
    "X = team_df[['Arts', 'Beliefs and Other', 'History', 'Literature', 'Science', 'Thought']]\n",
    "\n",
    "X = np.concatenate((np.ones(X.shape[0])[:, None], X), axis=1)\n",
    "X.shape"
   ]
  },
  {
   "cell_type": "code",
   "execution_count": null,
   "id": "35cafed3",
   "metadata": {},
   "outputs": [],
   "source": [
    "team_df = get_team_survival_data(buzzes_df, 'Cornell A')\n",
    "    \n",
    "X = team_df[['Arts', 'Beliefs and Other', 'History', 'Literature', 'Science', 'Thought']]\n",
    "\n",
    "X = np.concatenate((np.ones(X.shape[0])[:, None], X), axis=1).T\n",
    "\n",
    "X"
   ]
  },
  {
   "cell_type": "code",
   "execution_count": null,
   "id": "ec409df7",
   "metadata": {},
   "outputs": [],
   "source": [
    "[2] + [3]"
   ]
  },
  {
   "cell_type": "code",
   "execution_count": null,
   "id": "b6b79196",
   "metadata": {},
   "outputs": [],
   "source": []
  }
 ],
 "metadata": {
  "kernelspec": {
   "display_name": "Python [conda env:pymc] *",
   "language": "python",
   "name": "conda-env-pymc-py"
  },
  "language_info": {
   "codemirror_mode": {
    "name": "ipython",
    "version": 3
   },
   "file_extension": ".py",
   "mimetype": "text/x-python",
   "name": "python",
   "nbconvert_exporter": "python",
   "pygments_lexer": "ipython3",
   "version": "3.11.0"
  }
 },
 "nbformat": 4,
 "nbformat_minor": 5
}
