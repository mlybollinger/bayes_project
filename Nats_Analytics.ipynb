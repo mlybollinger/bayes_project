{
 "cells": [
  {
   "cell_type": "code",
   "execution_count": 1,
   "id": "af01f210",
   "metadata": {},
   "outputs": [],
   "source": [
    "import pandas as pd\n",
    "import arviz as az\n",
    "import numpy as np\n",
    "import pymc as pm\n",
    "from pymc.math import exp\n",
    "import math\n",
    "import matplotlib.pyplot as plt\n"
   ]
  },
  {
   "cell_type": "code",
   "execution_count": 2,
   "id": "437ec7e1",
   "metadata": {},
   "outputs": [],
   "source": [
    "#loading the data\n",
    "\n",
    "bonuses_df = pd.read_csv(\"2023-acf-nationals-all-bonuses.csv\")\n",
    "buzzes_df = pd.read_csv(\"2023-acf-nationals-all-buzzes.csv\")\n",
    "lengths_df = pd.read_csv(\"tossup-meta.csv\")"
   ]
  },
  {
   "cell_type": "code",
   "execution_count": 3,
   "id": "833aab16",
   "metadata": {},
   "outputs": [],
   "source": [
    "# transforming data\n",
    "\n",
    "buzzes_df = pd.merge(buzzes_df, lengths_df[['round', 'tossup', 'words']], how='left', left_on=['round', 'tossup'], right_on=['round', 'tossup'])\n",
    "buzzes_df['pct_read'] = buzzes_df['buzz_position'] / buzzes_df['words'] * 100\n",
    "\n",
    "buzzes_df['pct_read'] = buzzes_df['pct_read'].apply(lambda x: min(x, 100))\n",
    "\n",
    "buzzes_df = buzzes_df[buzzes_df['round'] >= 9]"
   ]
  },
  {
   "cell_type": "code",
   "execution_count": null,
   "id": "570e9b34",
   "metadata": {},
   "outputs": [],
   "source": [
    "def get_player_survival_data(df, player_name, category):\n",
    "    \n",
    "    # gets a dataframe of all tossups in a specified category read to the specified player\n",
    "    \n",
    "    team_name = df[df['player'] == player_name]['team'].iloc[0]\n",
    "    \n",
    "    game_ids = df.loc[(df['team'] == team_name) | (df['opponent'] == team_name), \"game_id\"].unique()\n",
    "    \n",
    "    buzzes_list = []\n",
    "    \n",
    "    player_df = df[df['game_id'].isin(game_ids)]\n",
    "    \n",
    "    player_df['player_buzz'] = [1 if player == player_name else 0 for player in player_df['player']]\n",
    "    \n",
    "    #remove buzzes after negs\n",
    "    \n",
    "    player_df = player_df.drop_duplicates(subset=['round', 'tossup'], keep='first').reset_index(drop=True)\n",
    "    \n",
    "    player_df = player_df[player_df['category'] == category]\n",
    "\n",
    "    \n",
    "    return player_df\n",
    "\n",
    "player_df = get_player_survival_data(buzzes_df, 'Geoffrey Chen', 'Science')\n",
    "\n",
    "player_df.head()"
   ]
  },
  {
   "cell_type": "code",
   "execution_count": null,
   "id": "ed5776e7",
   "metadata": {},
   "outputs": [],
   "source": [
    "# Running experiment for survival analysis on a single player\n",
    "\n",
    "log2 = np.log(2)\n",
    "\n",
    "player_list = ['Hari Parameswaran']\n",
    "\n",
    "for player in player_list:\n",
    "    \n",
    "    player_df = get_player_survival_data(buzzes_df, player, 'History')\n",
    "    \n",
    "    observed_mask = player_df['player_buzz'] == 1\n",
    "    \n",
    "    censored_vals = player_df['pct_read'].copy()\n",
    "    censored = censored_vals[~observed_mask]\n",
    "    \n",
    "        \n",
    "    y_uncensored = player_df['pct_read'].copy()\n",
    "    \n",
    "    y_uncensored = y_uncensored[observed_mask]\n",
    "    \n",
    "    upper = np.full(np.shape(censored), 110)\n",
    "    \n",
    "    with pm.Model() as m:\n",
    "        beta0 = pm.Normal(\"beta0\", 0, tau=0.01)\n",
    "        α = pm.Exponential(\"α\", 1/2)\n",
    "\n",
    "        λ = exp(beta0)\n",
    "        β = λ ** (-1 / α)\n",
    "\n",
    "        impute_censored = pm.Bound(\"impute_censored\", pm.Weibull.dist(alpha=α, beta=β), lower=censored, upper=upper, shape=censored.shape[0])\n",
    "        \n",
    "        likelihood = pm.Truncated(\"likelihood\", pm.Weibull.dist(\n",
    "        alpha=α,\n",
    "        beta=β), \n",
    "        observed=y_uncensored,\n",
    "        shape=y_uncensored.shape[0],\n",
    "        upper=105\n",
    "    )\n",
    "        \n",
    "\n",
    "        median0 = pm.Deterministic(\"median0\", (log2 * exp(-beta0)) ** (1 / α))\n",
    "\n",
    "        trace = pm.sample(\n",
    "            3000,\n",
    "            tune=500,\n",
    "            init=\"jitter+adapt_diag_grad\",\n",
    "            target_accept=0.9,\n",
    "        )\n",
    "        \n",
    "        print(\"Player: \" + player)\n",
    "        \n",
    "        print(az.summary(trace))"
   ]
  },
  {
   "cell_type": "code",
   "execution_count": null,
   "id": "d1108fd5",
   "metadata": {},
   "outputs": [],
   "source": [
    "az.plot_trace(trace)"
   ]
  },
  {
   "cell_type": "code",
   "execution_count": 158,
   "id": "957ede1b",
   "metadata": {},
   "outputs": [],
   "source": [
    "def get_team_survival_data(df, team_name):\n",
    "    \n",
    "    # returns df with results of all tossups read to the given team\n",
    "    \n",
    "    buzzes_list = []\n",
    "    \n",
    "    team_df = df[(df['team'] == team_name) | (df['opponent'] == team_name)]\n",
    "    \n",
    "    team_df['team_buzz'] = [1 if team == team_name else 0 for team in team_df['team']]\n",
    "    \n",
    "    #remove buzzes after negs\n",
    "    \n",
    "    team_df = team_df.drop_duplicates(subset=['round', 'tossup'], keep='first').reset_index(drop=True)\n",
    "    \n",
    "    cat_df = pd.get_dummies(team_df['category'])\n",
    "    \n",
    "    team_df = pd.concat([team_df, cat_df], axis=1)\n",
    "\n",
    "    \n",
    "    return team_df"
   ]
  },
  {
   "cell_type": "code",
   "execution_count": null,
   "id": "b20106d6",
   "metadata": {},
   "outputs": [],
   "source": [
    "# testing\n",
    "\n",
    "team_df = get_team_survival_data(buzzes_df, 'Cornell A')\n",
    "\n",
    "team_df.head()"
   ]
  },
  {
   "cell_type": "code",
   "execution_count": 166,
   "id": "f31a44d7",
   "metadata": {},
   "outputs": [
    {
     "name": "stderr",
     "output_type": "stream",
     "text": [
      "C:\\Users\\mlybo\\AppData\\Local\\Temp\\ipykernel_22668\\2612843235.py:8: SettingWithCopyWarning: \n",
      "A value is trying to be set on a copy of a slice from a DataFrame.\n",
      "Try using .loc[row_indexer,col_indexer] = value instead\n",
      "\n",
      "See the caveats in the documentation: https://pandas.pydata.org/pandas-docs/stable/user_guide/indexing.html#returning-a-view-versus-a-copy\n",
      "  team_df['team_buzz'] = [1 if team == team_name else 0 for team in team_df['team']]\n",
      "C:\\Users\\mlybo\\miniconda3\\envs\\pymc\\Lib\\site-packages\\pymc\\distributions\\bound.py:186: FutureWarning: Bound has been deprecated in favor of Truncated, and will be removed in a future release. If Truncated is not an option, Bound can be implemented byadding an IntervalTransform between lower and upper to a continuous variable. A Potential that returns negative infinity for values outside of the bounds can be used for discrete variables.\n",
      "  warnings.warn(\n",
      "Auto-assigning NUTS sampler...\n",
      "Initializing NUTS using jitter+adapt_diag_grad...\n",
      "Multiprocess sampling (4 chains in 4 jobs)\n",
      "NUTS: [beta_0, beta, α, impute_censored]\n"
     ]
    },
    {
     "data": {
      "text/html": [
       "\n",
       "<style>\n",
       "    /* Turns off some styling */\n",
       "    progress {\n",
       "        /* gets rid of default border in Firefox and Opera. */\n",
       "        border: none;\n",
       "        /* Needs to be in here for Safari polyfill so background images work as expected. */\n",
       "        background-size: auto;\n",
       "    }\n",
       "    progress:not([value]), progress:not([value])::-webkit-progress-bar {\n",
       "        background: repeating-linear-gradient(45deg, #7e7e7e, #7e7e7e 10px, #5c5c5c 10px, #5c5c5c 20px);\n",
       "    }\n",
       "    .progress-bar-interrupted, .progress-bar-interrupted::-webkit-progress-bar {\n",
       "        background: #F44336;\n",
       "    }\n",
       "</style>\n"
      ],
      "text/plain": [
       "<IPython.core.display.HTML object>"
      ]
     },
     "metadata": {},
     "output_type": "display_data"
    },
    {
     "data": {
      "text/html": [
       "\n",
       "    <div>\n",
       "      <progress value='14000' class='' max='14000' style='width:300px; height:20px; vertical-align: middle;'></progress>\n",
       "      100.00% [14000/14000 02:40&lt;00:00 Sampling 4 chains, 0 divergences]\n",
       "    </div>\n",
       "    "
      ],
      "text/plain": [
       "<IPython.core.display.HTML object>"
      ]
     },
     "metadata": {},
     "output_type": "display_data"
    },
    {
     "name": "stderr",
     "output_type": "stream",
     "text": [
      "Sampling 4 chains for 500 tune and 3_000 draw iterations (2_000 + 12_000 draws total) took 192 seconds.\n",
      "The effective sample size per chain is smaller than 100 for some parameters.  A higher number is needed for reliable rhat and ess computation. See https://arxiv.org/abs/1903.08008 for details\n"
     ]
    },
    {
     "name": "stdout",
     "output_type": "stream",
     "text": [
      "Team: Georgia Tech A\n",
      "                      mean      sd  hdi_3%  hdi_97%  mcse_mean  mcse_sd  \\\n",
      "beta_0             -16.373   1.615 -19.522  -13.456      0.078    0.055   \n",
      "beta[0]             -0.226   1.299  -2.520    2.280      0.066    0.047   \n",
      "beta[1]             -0.502   1.307  -2.932    1.906      0.065    0.046   \n",
      "beta[2]              0.187   1.298  -2.205    2.600      0.066    0.046   \n",
      "beta[3]              0.013   1.297  -2.391    2.413      0.066    0.047   \n",
      "...                    ...     ...     ...      ...        ...      ...   \n",
      "art_prediction      69.378  20.823  30.673  108.418      0.191    0.135   \n",
      "belief_prediction   74.342  22.199  30.826  114.378      0.208    0.148   \n",
      "hist_prediction     61.885  18.599  26.445   95.722      0.169    0.119   \n",
      "sci_prediction      77.270  23.256  34.252  120.689      0.216    0.153   \n",
      "thought_prediction  78.697  24.057  32.732  122.630      0.221    0.156   \n",
      "\n",
      "                    ess_bulk  ess_tail  r_hat  \n",
      "beta_0                 434.0     968.0   1.01  \n",
      "beta[0]                393.0     901.0   1.01  \n",
      "beta[1]                402.0     903.0   1.00  \n",
      "beta[2]                393.0     822.0   1.01  \n",
      "beta[3]                391.0     786.0   1.00  \n",
      "...                      ...       ...    ...  \n",
      "art_prediction       11819.0   11933.0   1.00  \n",
      "belief_prediction    11359.0   12015.0   1.00  \n",
      "hist_prediction      12136.0   11216.0   1.00  \n",
      "sci_prediction       11599.0   10785.0   1.00  \n",
      "thought_prediction   11849.0   11973.0   1.00  \n",
      "\n",
      "[121 rows x 9 columns]\n"
     ]
    }
   ],
   "source": [
    "# Running Weibull regression on Georgia Tech A and Chicago A's stats.\n",
    "\n",
    "log2 = np.log(2)\n",
    "\n",
    "team_list = ['Georgia Tech A', 'Chicago A']\n",
    "\n",
    "#trace_data = {}\n",
    "\n",
    "for team in team_list:\n",
    "    \n",
    "    \n",
    "    team_df = get_team_survival_data(buzzes_df, team)\n",
    "    \n",
    "    X = np.array(team_df[['Arts', 'Beliefs and Other', 'History', 'Literature', 'Science', 'Thought']]).T    \n",
    "    \n",
    "    observed_mask = team_df['team_buzz'] == 1\n",
    "    \n",
    "    censored_vals = team_df['pct_read'].copy()\n",
    "    \n",
    "    \n",
    "    censored = censored_vals[~observed_mask]\n",
    "    \n",
    "    with pm.Model() as m:\n",
    "    \n",
    "        \n",
    "    \n",
    "        x_censored = X[:, ~observed_mask]\n",
    "        x_uncensored = X[:, observed_mask]\n",
    "\n",
    "\n",
    "        y_uncensored = team_df['pct_read'].copy()\n",
    "    \n",
    "        y_uncensored = y_uncensored[observed_mask]\n",
    "    \n",
    "    \n",
    "    \n",
    "        upper = np.full(np.shape(censored), 110)\n",
    "        \n",
    "        beta_0 = pm.Normal(\"beta_0\", 0, tau=.01)\n",
    "    \n",
    "        \n",
    "        \n",
    "        \n",
    "        betas = pm.Normal(\"beta\", 0, tau=0.1, shape=X.shape[0])\n",
    "        \n",
    "        α = pm.Exponential(\"α\", 1/2)\n",
    "\n",
    "        λ_censored = exp(beta_0 + pm.math.dot(betas, x_censored))\n",
    "        \n",
    "        λ_uncensored = exp(beta_0 + pm.math.dot(betas, x_uncensored))\n",
    "        \n",
    "        β_censored = λ_censored ** (-1 / α)\n",
    "\n",
    "        β_uncensored = λ_uncensored ** (-1 / α)\n",
    "         \n",
    "\n",
    "        impute_censored = pm.Bound(\"impute_censored\", pm.Weibull.dist(alpha=α, beta=β_censored), lower=censored, upper=upper, shape=censored.shape[0])\n",
    "        \n",
    "        likelihood = pm.Truncated(\"likelihood\", pm.Weibull.dist(\n",
    "        alpha=α,\n",
    "        beta=β_uncensored), \n",
    "        observed=y_uncensored,\n",
    "        shape=1,  \n",
    "        upper=100                   \n",
    "    )\n",
    "        \n",
    "\n",
    "        #median0 = pm.Deterministic(\"median0\", pm.math.exp((100 / σ) ** α - ((100 + p) / σ) ** α))\n",
    "        \n",
    "        lit_pred = pm.Deterministic('lit_prediction', pm.Weibull.dist(alpha=α, beta=pm.math.exp(beta_0 + betas[3]) ** (-1 / α)))\n",
    "        arts_pred = pm.Deterministic('art_prediction', pm.Weibull.dist(alpha=α, beta=pm.math.exp(beta_0 + betas[0]) ** (-1 / α)))\n",
    "        belief_pred = pm.Deterministic('belief_prediction', pm.Weibull.dist(alpha=α, beta=pm.math.exp(beta_0 + betas[1]) ** (-1 / α)))\n",
    "        hist_pred = pm.Deterministic('hist_prediction', pm.Weibull.dist(alpha=α, beta=pm.math.exp(beta_0 + betas[2]) ** (-1 / α)))\n",
    "        sci_pred = pm.Deterministic('sci_prediction', pm.Weibull.dist(alpha=α, beta=pm.math.exp(beta_0 + betas[4]) ** (-1 / α)))\n",
    "        thought_pred = pm.Deterministic('thought_prediction', pm.Weibull.dist(alpha=α, beta=pm.math.exp(beta_0 + betas[5]) ** (-1 / α)))\n",
    "\n",
    "        trace = pm.sample(\n",
    "            3000,\n",
    "            tune=500,\n",
    "            init=\"jitter+adapt_diag_grad\",\n",
    "            target_accept=0.9,\n",
    "        )\n",
    "        \n",
    "        team_data = {\"Lit\": np.array(trace.posterior['lit_prediction']), \"Arts\": np.array(trace.posterior['art_prediction']), \n",
    "                    \"Belief\": np.array(trace.posterior['belief_prediction']), \"History\": np.array(trace.posterior['hist_prediction']), \n",
    "                    \"Science\": np.array(trace.posterior['sci_prediction']), \"Thought\": np.array(trace.posterior['thought_prediction'])}\n",
    "        \n",
    "        trace_data[team] = team_data\n",
    "        \n",
    "        print(\"Team: \" + team)\n",
    "        \n",
    "        print(az.summary(trace))\n",
    "        "
   ]
  },
  {
   "cell_type": "code",
   "execution_count": 114,
   "id": "c8a5162f",
   "metadata": {},
   "outputs": [],
   "source": [
    "\n",
    "def sim_game(first_buzzes, second_buzzes, first_neg_rate, second_neg_rate, first_ppb, second_ppb):\n",
    "    \n",
    "    # simulating one game. Buzzpoints are selected for the twenty tossups in a quizbowl match, identified by category.\n",
    "    # Teams have neg rates given by their Nationals stats. Negs and bonus points are assigned randomly based on a team's \n",
    "    # neg rate and ppb.\n",
    "    \n",
    "    tossups = [\"Lit\"] * 4 + [\"Arts\"] * 3 + ['Belief'] * 3 + [\"History\"] * 4 + [\"Science\"] * 4 + [\"Thought\"] * 2\n",
    "    first_score = 0\n",
    "    second_score = 0\n",
    "    \n",
    "    for tossup in tossups:\n",
    "        \n",
    "        buzz_one = np.random.choice(first_buzzes[tossup].flatten())\n",
    "        buzz_two = np.random.choice(second_buzzes[tossup].flatten())\n",
    "        \n",
    "        first_bonus_points = math.floor(first_ppb / 10 + np.random.random()) * 10\n",
    "        second_bonus_points = math.floor(second_ppb / 10 + np.random.random()) * 10\n",
    "        \n",
    "        if (buzz_one >= 110) & (buzz_two >= 110):\n",
    "            continue\n",
    "            \n",
    "        elif buzz_one < buzz_two:\n",
    "            \n",
    "            is_neg = np.random.choice([0, 1], p=[1 - first_neg_rate, first_neg_rate])\n",
    "            \n",
    "            if is_neg:\n",
    "                \n",
    "                first_score -= 5\n",
    "                \n",
    "                if buzz_two <= 110:\n",
    "                    \n",
    "                    second_score += 10\n",
    "                    second_score += second_bonus_points\n",
    "            else:\n",
    "                \n",
    "                first_score += 10\n",
    "                first_score += first_bonus_points\n",
    "                    \n",
    "        elif buzz_two <= buzz_one:\n",
    "            \n",
    "            is_neg = np.random.choice([0, 1], p=[1 - second_neg_rate, second_neg_rate])\n",
    "            \n",
    "            if is_neg:\n",
    "                \n",
    "                second_score -= 5\n",
    "                \n",
    "                if buzz_one <= 110:\n",
    "                    \n",
    "                    first_score += 10\n",
    "                    first_score += first_bonus_points\n",
    "            else:\n",
    "                \n",
    "                second_score += 10\n",
    "                second_score += second_bonus_points\n",
    "                \n",
    "    return (first_score, second_score)"
   ]
  },
  {
   "cell_type": "code",
   "execution_count": 106,
   "id": "410cbf45",
   "metadata": {},
   "outputs": [
    {
     "data": {
      "text/plain": [
       "0"
      ]
     },
     "execution_count": 106,
     "metadata": {},
     "output_type": "execute_result"
    }
   ],
   "source": []
  },
  {
   "cell_type": "code",
   "execution_count": 151,
   "id": "02aa3116",
   "metadata": {},
   "outputs": [
    {
     "name": "stdout",
     "output_type": "stream",
     "text": [
      "Chicago A: 382 Georgia Tech A: 588\n"
     ]
    }
   ],
   "source": [
    "# simulate 1000 games between Georgia Tech A and Chicago A, storing the results\n",
    "\n",
    "wins = {\"Georgia Tech A\": 0, \"Chicago A\": 0}\n",
    "\n",
    "differentials = []\n",
    "\n",
    "for i in range(1000):\n",
    "    \n",
    "    scores = sim_game(trace_data['Georgia Tech A'], trace_data['Chicago A'], .16, .13, 20.2, 20.0)\n",
    "    \n",
    "    differential = scores[0] - scores[1]\n",
    "    \n",
    "    if scores[1] > scores[0]:\n",
    "        wins['Chicago A'] += 1\n",
    "    elif scores[0] > scores[1]:\n",
    "        wins['Georgia Tech A'] += 1\n",
    "    \n",
    "    differentials.append(differential)\n",
    "\n",
    "print(\"Chicago A: \" + str(wins[\"Chicago A\"]), \"Georgia Tech A: \" + str(wins['Georgia Tech A']))"
   ]
  },
  {
   "cell_type": "code",
   "execution_count": 171,
   "id": "5132da3a",
   "metadata": {},
   "outputs": [
    {
     "data": {
      "text/plain": [
       "<Figure size 640x480 with 0 Axes>"
      ]
     },
     "metadata": {},
     "output_type": "display_data"
    }
   ],
   "source": [
    "# store results for all teams and matchups\n",
    "\n",
    "teams = [\"Georgia Tech A\", \"Chicago A\", \"Cornell A\", \"Yale A\", \"WUSTL A\", \"Stanford A\"]\n",
    "\n",
    "neg_rates = {\"Georgia Tech A\": .16, \"Chicago A\": .13, \"Cornell A\": .15, \"Yale A\": .166, \"WUSTL A\": .233, \"Stanford A\": .18}\n",
    "\n",
    "ppbs = {\"Georgia Tech A\": 20.2, \"Chicago A\": 20.0, \"Cornell A\": 17.5, \"Yale A\": 17.3, \"WUSTL A\": 17.2, \"Stanford A\": 18.2}\n",
    "\n",
    "results = {\"Georgia Tech A\": {}, \"Chicago A\": {}, \"Cornell A\": {}, \"Yale A\": {}, \"WUSTL A\": {}, \"Stanford A\": {}}\n",
    "\n",
    "for i in range(len(teams) - 1):\n",
    "    \n",
    "    curr_team = teams[i]\n",
    "    \n",
    "    for team in teams[i + 1:]:\n",
    "        \n",
    "        second_team = team\n",
    "        \n",
    "        differentials = []\n",
    "        \n",
    "        wins = {curr_team: 0, second_team: 0}\n",
    "        \n",
    "        for k in range(1000):\n",
    "    \n",
    "            scores = sim_game(trace_data[curr_team], trace_data[second_team], neg_rates[curr_team], neg_rates[second_team], ppbs[curr_team], ppbs[second_team])\n",
    "    \n",
    "            differential = scores[0] - scores[1]\n",
    "    \n",
    "            if scores[1] > scores[0]:\n",
    "                wins[curr_team] += 1\n",
    "            elif scores[0] > scores[1]:\n",
    "                wins[second_team] += 1\n",
    "    \n",
    "            differentials.append(differential)\n",
    "        \n",
    "        results[curr_team][second_team] = str(wins[curr_team]) + \" - \" + str(wins[second_team])\n",
    "        results[second_team][curr_team] = str(wins[second_team]) + \" - \" + str(wins[curr_team])\n",
    "        \n",
    "        margin_df = pd.DataFrame({\"Margin\": differentials, \"Winner\": [curr_team if diff >= 0 else second_team for diff in differentials]})\n",
    "        \n",
    "        sns.histplot(margin_df, x=\"Margin\", hue=\"Winner\", binwidth=60)\n",
    "        \n",
    "        ## create and save figures\n",
    "        plt.axvline(x=margin_df['Margin'].median(), linestyle=\"dashed\")\n",
    "        plt.savefig(str(curr_team) + \" - \" + str(second_team) + \".jpg\")\n",
    "        plt.clf()"
   ]
  },
  {
   "cell_type": "code",
   "execution_count": 177,
   "id": "d3e7a63d",
   "metadata": {},
   "outputs": [
    {
     "name": "stdout",
     "output_type": "stream",
     "text": [
      "               Georgia Tech A  Chicago A  Cornell A     Yale A    WUSTL A  \\\n",
      "Chicago A           394 - 574        NaN  666 - 325  836 - 159  842 - 152   \n",
      "Cornell A           259 - 731  325 - 666        NaN  687 - 298  704 - 285   \n",
      "Yale A              133 - 857  159 - 836  298 - 687        NaN  525 - 452   \n",
      "WUSTL A             106 - 892  152 - 842  285 - 704  452 - 525        NaN   \n",
      "Stanford A          190 - 796  268 - 722  408 - 573  608 - 373  634 - 348   \n",
      "Georgia Tech A            NaN  574 - 394  731 - 259  857 - 133  892 - 106   \n",
      "\n",
      "               Stanford A  \n",
      "Chicago A       722 - 268  \n",
      "Cornell A       573 - 408  \n",
      "Yale A          373 - 608  \n",
      "WUSTL A         348 - 634  \n",
      "Stanford A            NaN  \n",
      "Georgia Tech A  796 - 190  \n"
     ]
    }
   ],
   "source": [
    "results_df = pd.DataFrame(results)\n",
    "print(results_df)"
   ]
  },
  {
   "cell_type": "code",
   "execution_count": 152,
   "id": "1d256cfc",
   "metadata": {},
   "outputs": [],
   "source": [
    "margin_df = pd.DataFrame({\"Margin\": differentials, \"Winner\": [\"Georgia Tech A\" if diff >= 0 else \"Chicago A\" for diff in differentials]})"
   ]
  },
  {
   "cell_type": "code",
   "execution_count": 153,
   "id": "e1821b3e",
   "metadata": {},
   "outputs": [
    {
     "data": {
      "image/png": "[encoded data removed]",
      "text/plain": [
       "<Figure size 640x480 with 1 Axes>"
      ]
     },
     "metadata": {},
     "output_type": "display_data"
    }
   ],
   "source": [
    "# histogram of the margin of victory over 1000 games between each pair of teams\n",
    "\n",
    "sns.histplot(margin_df, x=\"Margin\", hue=\"Winner\", binwidth=60)\n",
    "plt.axvline(x=margin_df['Margin'].median(), linestyle=\"dashed\")\n",
    "plt.show()"
   ]
  }
 ],
 "metadata": {
  "kernelspec": {
   "display_name": "Python [conda env:pymc] *",
   "language": "python",
   "name": "conda-env-pymc-py"
  },
  "language_info": {
   "codemirror_mode": {
    "name": "ipython",
    "version": 3
   },
   "file_extension": ".py",
   "mimetype": "text/x-python",
   "name": "python",
   "nbconvert_exporter": "python",
   "pygments_lexer": "ipython3",
   "version": "3.11.0"
  }
 },
 "nbformat": 4,
 "nbformat_minor": 5
}
